{
 "cells": [
  {
   "cell_type": "markdown",
   "metadata": {},
   "source": [
    "# Most Profitable Apps\n",
    "The following project intends to provide an insight on the profiles of the most attractive apps in the IOS store, in order to (hopefully!) help developers in creating more popular apps."
   ]
  },
  {
   "cell_type": "markdown",
   "metadata": {},
   "source": [
    "There are over 4 million apps in Apple App Store and Google Play together. Analyzing data from 4 million apps would be costly and time-consuming. Instead, I will analyze samples of data.\n",
    "\n",
    "There are two relevant public sources of data which seem suitable for the analysis: a [data set](https://www.kaggle.com/lava18/google-play-store-apps/home) from Google Play with data of approximately 10,000 Android apps (collected in August 2018) and a [data set](https://www.kaggle.com/ramamet4/app-store-apple-data-set-10k-apps/home#AppleStore.csv) from the App Store with data of approximately 7,000 iOS apps (collected in July 2017).\n",
    "\n",
    "For the purpose of the analysis, the year-lenght time difference of the collection of both databases should not be a significant factor for differences between results in both databases, as we assume reasons for popularity of some apps over others should be relatively stable in small and medium periods of time.\n",
    "\n",
    "## Opening and Exploring"
   ]
  },
  {
   "cell_type": "code",
   "execution_count": 2,
   "metadata": {},
   "outputs": [],
   "source": [
    "from csv import reader\n",
    "\n",
    "### The Google Play data set ###\n",
    "opened_file = open('googleplaystore.csv', encoding='utf8')\n",
    "read_file = reader(opened_file)\n",
    "android = list(read_file)\n",
    "android_header = android[0]\n",
    "android = android[1:]\n",
    "\n",
    "### The iOS data set ###\n",
    "opened_file = open('AppleStore.csv', encoding='utf8')\n",
    "read_file = reader(opened_file)\n",
    "iOS = list(read_file)\n",
    "iOS_header = iOS[0]\n",
    "iOS = iOS[1:]"
   ]
  },
  {
   "cell_type": "markdown",
   "metadata": {},
   "source": [
    "I started by opening and exploring both data sets. To make it easier to visualize, I used the following explore_data() function:"
   ]
  },
  {
   "cell_type": "code",
   "execution_count": 3,
   "metadata": {},
   "outputs": [],
   "source": [
    "def explore_data(dataset, start, end, rows_and_columns=False):\n",
    "    dataset_slice = dataset[start:end]    \n",
    "    for row in dataset_slice:\n",
    "        print(row)\n",
    "        print('\\n') # adds a new (empty) line after each row\n",
    "\n",
    "    if rows_and_columns:\n",
    "        print('Number of rows:', len(dataset))\n",
    "        print('Number of columns:', len(dataset[0]))\n",
    "        #this is only useful if we don't have a header\n",
    "        #else, it will give a wrong count of rows and columns"
   ]
  },
  {
   "cell_type": "code",
   "execution_count": 4,
   "metadata": {},
   "outputs": [
    {
     "name": "stdout",
     "output_type": "stream",
     "text": [
      "['Photo Editor & Candy Camera & Grid & ScrapBook', 'ART_AND_DESIGN', '4.1', '159', '19M', '10,000+', 'Free', '0', 'Everyone', 'Art & Design', 'January 7, 2018', '1.0.0', '4.0.3 and up']\n",
      "\n",
      "\n",
      "['Coloring book moana', 'ART_AND_DESIGN', '3.9', '967', '14M', '500,000+', 'Free', '0', 'Everyone', 'Art & Design;Pretend Play', 'January 15, 2018', '2.0.0', '4.0.3 and up']\n",
      "\n",
      "\n",
      "['U Launcher Lite – FREE Live Cool Themes, Hide Apps', 'ART_AND_DESIGN', '4.7', '87510', '8.7M', '5,000,000+', 'Free', '0', 'Everyone', 'Art & Design', 'August 1, 2018', '1.2.4', '4.0.3 and up']\n",
      "\n",
      "\n",
      "['Sketch - Draw & Paint', 'ART_AND_DESIGN', '4.5', '215644', '25M', '50,000,000+', 'Free', '0', 'Teen', 'Art & Design', 'June 8, 2018', 'Varies with device', '4.2 and up']\n",
      "\n",
      "\n",
      "['Pixel Draw - Number Art Coloring Book', 'ART_AND_DESIGN', '4.3', '967', '2.8M', '100,000+', 'Free', '0', 'Everyone', 'Art & Design;Creativity', 'June 20, 2018', '1.1', '4.4 and up']\n",
      "\n",
      "\n",
      "Number of rows: 10841\n",
      "Number of columns: 13\n",
      "\n",
      "\n",
      "['1', '281656475', 'PAC-MAN Premium', '100788224', 'USD', '3.99', '21292', '26', '4', '4.5', '6.3.5', '4+', 'Games', '38', '5', '10', '1']\n",
      "\n",
      "\n",
      "['2', '281796108', 'Evernote - stay organized', '158578688', 'USD', '0', '161065', '26', '4', '3.5', '8.2.2', '4+', 'Productivity', '37', '5', '23', '1']\n",
      "\n",
      "\n",
      "['3', '281940292', 'WeatherBug - Local Weather, Radar, Maps, Alerts', '100524032', 'USD', '0', '188583', '2822', '3.5', '4.5', '5.0.0', '4+', 'Weather', '37', '5', '3', '1']\n",
      "\n",
      "\n",
      "['4', '282614216', 'eBay: Best App to Buy, Sell, Save! Online Shopping', '128512000', 'USD', '0', '262241', '649', '4', '4.5', '5.10.0', '12+', 'Shopping', '37', '5', '9', '1']\n",
      "\n",
      "\n",
      "['5', '282935706', 'Bible', '92774400', 'USD', '0', '985920', '5320', '4.5', '5', '7.5.1', '4+', 'Reference', '37', '5', '45', '1']\n",
      "\n",
      "\n",
      "Number of rows: 7197\n",
      "Number of columns: 17\n"
     ]
    }
   ],
   "source": [
    "explore_data(android, 0, 5, True)\n",
    "print('\\n')\n",
    "explore_data(iOS, 0, 5, True)"
   ]
  },
  {
   "cell_type": "markdown",
   "metadata": {},
   "source": [
    "Now that we have visualized part of what we can find inside each database, I will print both headers to know the names of the columns of each database. This will help us understanding which is the relevant information to be used in the analysis."
   ]
  },
  {
   "cell_type": "code",
   "execution_count": 5,
   "metadata": {},
   "outputs": [
    {
     "name": "stdout",
     "output_type": "stream",
     "text": [
      "Header for Android apps:\n",
      "['App', 'Category', 'Rating', 'Reviews', 'Size', 'Installs', 'Type', 'Price', 'Content Rating', 'Genres', 'Last Updated', 'Current Ver', 'Android Ver']\n",
      "\n",
      "\n",
      "Header for iOS apps:\n",
      "['', 'id', 'track_name', 'size_bytes', 'currency', 'price', 'rating_count_tot', 'rating_count_ver', 'user_rating', 'user_rating_ver', 'ver', 'cont_rating', 'prime_genre', 'sup_devices.num', 'ipadSc_urls.num', 'lang.num', 'vpp_lic']\n"
     ]
    }
   ],
   "source": [
    "print('Header for Android apps:')\n",
    "print(android_header)\n",
    "print('\\n')\n",
    "print('Header for iOS apps:')\n",
    "print(iOS_header)"
   ]
  },
  {
   "cell_type": "markdown",
   "metadata": {},
   "source": [
    "## Data Cleaning"
   ]
  },
  {
   "cell_type": "markdown",
   "metadata": {},
   "source": [
    "I am only interested in apps which are directed at an english-speaking audience and that are free to download. Consequently, data cleaning will remove those apps which do not comply with this requirements.\n",
    "\n",
    "Additionally, data cleaning involves removing wrong data for data reliability purposes.\n",
    "\n",
    "### Android discussion forums: missing info in a row and data duplication\n",
    "\n",
    "In the discussion section of the Google Play data set it was [discovered that there is missing information](https://www.kaggle.com/lava18/google-play-store-apps/discussion/66015) in the category column of the row 10472 (which corresponds to 10473 before removing the header). This mistake leads to a mismatch row-column in all the following apps. Therefore, I proceed to print row 10472 to check whether the error does effectively exist and delete the app from the database if it is confirmed."
   ]
  },
  {
   "cell_type": "code",
   "execution_count": 6,
   "metadata": {},
   "outputs": [
    {
     "name": "stdout",
     "output_type": "stream",
     "text": [
      "['Life Made WI-Fi Touchscreen Photo Frame', '1.9', '19', '3.0M', '1,000+', 'Free', '0', 'Everyone', '', 'February 11, 2018', '1.0.19', '4.0 and up']\n"
     ]
    }
   ],
   "source": [
    "print(android[10472])"
   ]
  },
  {
   "cell_type": "code",
   "execution_count": 7,
   "metadata": {},
   "outputs": [],
   "source": [
    "#Effectively, there is no category. Besides, genre is blank.\n",
    "del android[10472]\n",
    "\n",
    "#Deleted. Wrong row is not there anymore!"
   ]
  },
  {
   "cell_type": "markdown",
   "metadata": {},
   "source": [
    "Another mistake which can be found in the discussion section of the Google Play database involves apps duplication.\n",
    "\n",
    "We will proceed to explore duplicated apps to find whether they have the same information for every column (in which case we would only delete the extra apps) or not (in which case we would have to look further into the differing information, and may eventually need to reconsider the data set reliability)."
   ]
  },
  {
   "cell_type": "code",
   "execution_count": 8,
   "metadata": {},
   "outputs": [
    {
     "name": "stdout",
     "output_type": "stream",
     "text": [
      "There are 9659 apps when adjusting for duplications.\n",
      "798 apps are duplicated at least once.\n"
     ]
    }
   ],
   "source": [
    "first_names = []\n",
    "duplicated = {}\n",
    "dup_name = []\n",
    "for apps in android:\n",
    "    name = apps[0]\n",
    "    if name in first_names:\n",
    "        if name in duplicated:\n",
    "            duplicated[name] += 1\n",
    "        else:\n",
    "            duplicated[name] = 1\n",
    "            dup_name.append(name)\n",
    "    else:\n",
    "        first_names.append(name)\n",
    "\n",
    "amount = len(first_names)\n",
    "print('There are '+ str(amount) + ' apps when adjusting for duplications.')\n",
    "amount_dup = len(duplicated)\n",
    "print(str(amount_dup) + ' apps are duplicated at least once.')"
   ]
  },
  {
   "cell_type": "markdown",
   "metadata": {},
   "source": [
    "Although nothing of relevance arised in the discussion forums for iOS data, I am going to check there are no duplicated apps in said database."
   ]
  },
  {
   "cell_type": "code",
   "execution_count": 9,
   "metadata": {},
   "outputs": [
    {
     "name": "stdout",
     "output_type": "stream",
     "text": [
      "There are 7197 apps when adjusting for duplications.\n",
      "0 apps are duplicated\n"
     ]
    }
   ],
   "source": [
    "iOS_first_names = []\n",
    "iOS_duplicated = {}\n",
    "iOS_dup_name = []\n",
    "for apps in iOS:\n",
    "    name = apps[0]\n",
    "    if name in iOS_first_names:\n",
    "        if name in iOS_duplicated:\n",
    "            iOS_duplicated[name] += 1\n",
    "        else:\n",
    "            iOS_duplicated[name] = 1\n",
    "            iOS_dup_name.append(name)\n",
    "    else:\n",
    "        iOS_first_names.append(name)\n",
    "\n",
    "iOS_amount = len(iOS_first_names)\n",
    "print('There are '+ str(iOS_amount) + ' apps when adjusting for duplications.')\n",
    "iOS_amount_dup = len(iOS_duplicated)\n",
    "print(str(iOS_amount_dup) + ' apps are duplicated')"
   ]
  },
  {
   "cell_type": "markdown",
   "metadata": {},
   "source": [
    "Voilá! No duplications in iOS.\n",
    "\n",
    "Back to android:\n",
    "I know, from the discussion forums, that in android, Instagram is one of the duplicated apps. I am going to find exactly how data is duplicated in the columns after the app's name to see if I can find a good criteria of elimination."
   ]
  },
  {
   "cell_type": "code",
   "execution_count": 10,
   "metadata": {},
   "outputs": [
    {
     "name": "stdout",
     "output_type": "stream",
     "text": [
      "['Instagram', 'SOCIAL', '4.5', '66577313', 'Varies with device', '1,000,000,000+', 'Free', '0', 'Teen', 'Social', 'July 31, 2018', 'Varies with device', 'Varies with device']\n",
      "\n",
      "\n",
      "['Instagram', 'SOCIAL', '4.5', '66577446', 'Varies with device', '1,000,000,000+', 'Free', '0', 'Teen', 'Social', 'July 31, 2018', 'Varies with device', 'Varies with device']\n",
      "\n",
      "\n",
      "['Instagram', 'SOCIAL', '4.5', '66577313', 'Varies with device', '1,000,000,000+', 'Free', '0', 'Teen', 'Social', 'July 31, 2018', 'Varies with device', 'Varies with device']\n",
      "\n",
      "\n",
      "['Instagram', 'SOCIAL', '4.5', '66509917', 'Varies with device', '1,000,000,000+', 'Free', '0', 'Teen', 'Social', 'July 31, 2018', 'Varies with device', 'Varies with device']\n",
      "\n",
      "\n"
     ]
    }
   ],
   "source": [
    "for apps in android:\n",
    "    if ('Instagram' == apps[0]):\n",
    "        print(apps)\n",
    "        print('\\n')"
   ]
  },
  {
   "cell_type": "markdown",
   "metadata": {},
   "source": [
    "It seems, from Instagram's case, that the only data that varies between columns is the one corresponding to Reviews, which means data was obtained at different points in time.\n",
    "\n",
    "To check this holds, I am going to find out what happens with other three duplicated apps."
   ]
  },
  {
   "cell_type": "code",
   "execution_count": 11,
   "metadata": {},
   "outputs": [
    {
     "name": "stdout",
     "output_type": "stream",
     "text": [
      "Quick PDF Scanner + OCR FREE\n",
      "['Quick PDF Scanner + OCR FREE', 'BUSINESS', '4.2', '80805', 'Varies with device', '5,000,000+', 'Free', '0', 'Everyone', 'Business', 'February 26, 2018', 'Varies with device', '4.0.3 and up']\n",
      "\n",
      "\n",
      "['Quick PDF Scanner + OCR FREE', 'BUSINESS', '4.2', '80805', 'Varies with device', '5,000,000+', 'Free', '0', 'Everyone', 'Business', 'February 26, 2018', 'Varies with device', '4.0.3 and up']\n",
      "\n",
      "\n",
      "['Quick PDF Scanner + OCR FREE', 'BUSINESS', '4.2', '80804', 'Varies with device', '5,000,000+', 'Free', '0', 'Everyone', 'Business', 'February 26, 2018', 'Varies with device', '4.0.3 and up']\n",
      "\n",
      "\n",
      "\n",
      "\n",
      "Block Puzzle Classic Legend !\n",
      "['Block Puzzle Classic Legend !', 'GAME', '4.2', '17039', '4.9M', '5,000,000+', 'Free', '0', 'Everyone', 'Puzzle', 'April 13, 2018', '2.9', '2.3.3 and up']\n",
      "\n",
      "\n",
      "['Block Puzzle Classic Legend !', 'GAME', '4.2', '17044', '4.9M', '5,000,000+', 'Free', '0', 'Everyone', 'Puzzle', 'April 13, 2018', '2.9', '2.3.3 and up']\n",
      "\n",
      "\n",
      "\n",
      "\n",
      "Chrome Beta\n",
      "['Chrome Beta', 'PRODUCTIVITY', '4.4', '228794', 'Varies with device', '10,000,000+', 'Free', '0', 'Everyone', 'Productivity', 'August 6, 2018', '68.0.3440.91', 'Varies with device']\n",
      "\n",
      "\n",
      "['Chrome Beta', 'PRODUCTIVITY', '4.4', '228755', 'Varies with device', '10,000,000+', 'Free', '0', 'Everyone', 'Productivity', 'July 19, 2018', '68.0.3440.70', 'Varies with device']\n",
      "\n",
      "\n"
     ]
    }
   ],
   "source": [
    "print(dup_name[0])\n",
    "\n",
    "for apps in android:\n",
    "    if (dup_name[0] == apps[0]):\n",
    "        print(apps)\n",
    "        print('\\n')\n",
    "        \n",
    "print('\\n')\n",
    "print(dup_name[299])\n",
    "\n",
    "for apps in android:\n",
    "    if (dup_name[299] == apps[0]):\n",
    "        print(apps)\n",
    "        print('\\n')\n",
    "        \n",
    "print('\\n')\n",
    "print(dup_name[700])\n",
    "\n",
    "for apps in android:\n",
    "    if (dup_name[700] == apps[0]):\n",
    "        print(apps)\n",
    "        print('\\n')"
   ]
  },
  {
   "cell_type": "markdown",
   "metadata": {},
   "source": [
    "Cases above support the theory of data being obtained at different points in time. In some cases, the number of reviews vary slightly and in others it remains equal, such as in 'Quick PDF Scanner + OCR FREE' first two prints. This can be due to lower interaction of users with the download platform and engagement with the app than in Instagram's case, in which the review number varies significantly between the observations.\n",
    "\n",
    "Assuming review number will be the most affected data type, I will proceed to eliminate the duplicated apps taking a criteria of keeping the row with the most reviews (which should coincide with the most recent under normal circumstances) and deleting the others. Staying with the most updated content, for the analysis will be prioritized."
   ]
  },
  {
   "cell_type": "code",
   "execution_count": 12,
   "metadata": {},
   "outputs": [],
   "source": [
    "reviews_max = {}\n",
    "for apps in android:\n",
    "    name = apps[0]\n",
    "    n_reviews = float(apps[3])\n",
    "    if ((name in reviews_max) and (reviews_max[name] < n_reviews) or (name not in reviews_max)):\n",
    "        reviews_max[name] = n_reviews\n",
    "#The dictionary reviews_max now contains only the most reviewed versions of all apps.\n",
    "\n",
    "clean_android = []\n",
    "already_added = []\n",
    "for apps in android:\n",
    "    name = apps[0]\n",
    "    n_reviews = float(apps[3])\n",
    "    if (reviews_max[name] == n_reviews) and (name not in already_added):\n",
    "        clean_android.append(apps)\n",
    "        already_added.append(name)\n",
    "#Now clean_android has each app only once and every app in it should have complete info"
   ]
  },
  {
   "cell_type": "markdown",
   "metadata": {},
   "source": [
    "### English Characters\n",
    "\n",
    "The analysis is of interest for english-speaking developers. We will try to remove all apps which are definitely not in english.\n",
    "\n",
    "Our first filter will be those apps with characters not commonly used in english, by using the [ASCII](https://en.wikipedia.org/wiki/ASCII) (American Standard Code for Information Interchange) system and staying with apps named with characters numbered 0 to 127. If an app has a name with a character above 127, it is very likely it will not be in english (for example, character '爱' is number 29,233 according to ASCII and is not used in english). Note that some apps which are in english may be lost in the process, but what is of interest is that the remaining are in englis (as much as we can, and as far as we do not stay with a number of apps that is too small).\n",
    "\n",
    "Each character's associated number can be obtained with Python's built-in function ord()."
   ]
  },
  {
   "cell_type": "code",
   "execution_count": 13,
   "metadata": {},
   "outputs": [
    {
     "name": "stdout",
     "output_type": "stream",
     "text": [
      "True\n",
      "False\n",
      "True\n",
      "True\n"
     ]
    }
   ],
   "source": [
    "def english_character(string):\n",
    "    non_ascii = 0\n",
    "    for chars in string:\n",
    "        if ord(chars) > 127 or ord(chars) < 0: #I know ASCII values start in 0, but better safe than sorry if that ever changes.\n",
    "            non_ascii += 1\n",
    "    if non_ascii > 3:\n",
    "        return False\n",
    "    else:\n",
    "        return True\n",
    "    \n",
    "#Checking the function:\n",
    "print(english_character('Instagram')) #True\n",
    "print(english_character('爱奇艺PPS -《欢乐颂2》电视剧热播')) #False\n",
    "print(english_character('Docs To Go™ Free Office Suite')) #True\n",
    "print(english_character('Instachat 😜')) #True"
   ]
  },
  {
   "cell_type": "code",
   "execution_count": 14,
   "metadata": {},
   "outputs": [
    {
     "name": "stdout",
     "output_type": "stream",
     "text": [
      "9614\n",
      "6183\n"
     ]
    }
   ],
   "source": [
    "echar_clean_android = []\n",
    "for apps in clean_android:\n",
    "    name = apps[0]\n",
    "    if english_character(name) == True:\n",
    "        echar_clean_android.append(apps)\n",
    "\n",
    "echar_clean_iOS = []\n",
    "for apps in iOS:\n",
    "    name = apps[2]\n",
    "    if english_character(name) == True:\n",
    "        echar_clean_iOS.append(apps)\n",
    "        \n",
    "print(len(echar_clean_android))\n",
    "print(len(echar_clean_iOS))"
   ]
  },
  {
   "cell_type": "markdown",
   "metadata": {},
   "source": [
    "### Free Apps\n",
    "\n",
    "Now, a second pre-requisite for the usefullness of the analysis is that of apps being free.\n",
    "\n",
    "Android has two columns that can indicate if an app is free or not: type (index 6) and price (index 7; stored as 0). iOS has only price (index 4; stored as 0.0). For simplicity, I will discriminate between free and non-free apps using the price column for both and store them in new lists. Then I will print the final number of apps in each list."
   ]
  },
  {
   "cell_type": "code",
   "execution_count": 15,
   "metadata": {},
   "outputs": [
    {
     "name": "stdout",
     "output_type": "stream",
     "text": [
      "8864\n",
      "3222\n"
     ]
    }
   ],
   "source": [
    "final_android = []\n",
    "for apps in echar_clean_android:\n",
    "    price = apps[7]\n",
    "    if price == '0':\n",
    "        final_android.append(apps)\n",
    "        \n",
    "final_iOS = []\n",
    "for apps in echar_clean_iOS:\n",
    "    price = apps[5]\n",
    "    if price == '0':\n",
    "        final_iOS.append(apps)\n",
    "        \n",
    "print(len(final_android))\n",
    "print(len(final_iOS))"
   ]
  },
  {
   "cell_type": "markdown",
   "metadata": {},
   "source": [
    "## Data Analysis"
   ]
  },
  {
   "cell_type": "markdown",
   "metadata": {
    "collapsed": true
   },
   "source": [
    "The idea behind the analysis is for it to be useful for developers who intend to launch a basic version of the app in Google Play, develop it further if it attracts a sufficient amount of users and, if it becomes profitable after 6 months, introduce it in the App Store. Therefore, we must find app's profile that optimizes popularity and profitability considering both markets."
   ]
  },
  {
   "cell_type": "code",
   "execution_count": 16,
   "metadata": {},
   "outputs": [
    {
     "name": "stdout",
     "output_type": "stream",
     "text": [
      "Table for android \"Genre\"\n",
      "Tools : 8.449909747292507\n",
      "Entertainment : 6.069494584837599\n",
      "Education : 5.34747292418777\n",
      "Business : 4.591606498194979\n",
      "Productivity : 3.8921480144404565\n",
      "Lifestyle : 3.8921480144404565\n",
      "Finance : 3.7003610108303455\n",
      "Medical : 3.5311371841155417\n",
      "Sports : 3.46344765342962\n",
      "Personalization : 3.3167870036101235\n",
      "Communication : 3.2378158844765483\n",
      "Action : 3.1024368231047053\n",
      "Health & Fitness : 3.079873646209398\n",
      "Photography : 2.944494584837555\n",
      "News & Magazines : 2.7978339350180583\n",
      "Social : 2.6624548736462152\n",
      "Travel & Local : 2.3240072202166075\n",
      "Shopping : 2.2450361010830324\n",
      "Books & Reference : 2.14350180505415\n",
      "Simulation : 2.041967509025268\n",
      "Dating : 1.861462093862813\n",
      "Arcade : 1.8501805054151597\n",
      "Video Players & Editors : 1.771209386281586\n",
      "Casual : 1.7599277978339327\n",
      "Maps & Navigation : 1.398916967509025\n",
      "Food & Drink : 1.2409747292418778\n",
      "Puzzle : 1.1281588447653441\n",
      "Racing : 0.9927797833935037\n",
      "Role Playing : 0.9363718411552363\n",
      "Libraries & Demo : 0.9363718411552363\n",
      "Auto & Vehicles : 0.9250902527075828\n",
      "Strategy : 0.9138086642599293\n",
      "House & Home : 0.8235559566787015\n",
      "Weather : 0.8009927797833946\n",
      "Events : 0.7107400722021667\n",
      "Adventure : 0.6768953068592063\n",
      "Comics : 0.6092057761732854\n",
      "Beauty : 0.5979241877256319\n",
      "Art & Design : 0.5979241877256319\n",
      "Parenting : 0.4963898916967507\n",
      "Card : 0.451263537906137\n",
      "Casino : 0.42870036101083014\n",
      "Trivia : 0.4174187725631767\n",
      "Educational;Education : 0.3948555956678699\n",
      "Board : 0.38357400722021645\n",
      "Educational : 0.372292418772563\n",
      "Education;Education : 0.33844765342960276\n",
      "Word : 0.2594765342960288\n",
      "Casual;Pretend Play : 0.23691335740072195\n",
      "Music : 0.20306859205776168\n",
      "Racing;Action & Adventure : 0.1692238267148014\n",
      "Puzzle;Brain Games : 0.1692238267148014\n",
      "Entertainment;Music & Video : 0.1692238267148014\n",
      "Casual;Brain Games : 0.13537906137184114\n",
      "Casual;Action & Adventure : 0.13537906137184114\n",
      "Arcade;Action & Adventure : 0.12409747292418771\n",
      "Action;Action & Adventure : 0.10153429602888087\n",
      "Educational;Pretend Play : 0.09025270758122744\n",
      "Simulation;Action & Adventure : 0.07897111913357402\n",
      "Parenting;Education : 0.07897111913357402\n",
      "Entertainment;Brain Games : 0.07897111913357402\n",
      "Board;Brain Games : 0.07897111913357402\n",
      "Parenting;Music & Video : 0.06768953068592058\n",
      "Educational;Brain Games : 0.06768953068592058\n",
      "Casual;Creativity : 0.06768953068592058\n",
      "Art & Design;Creativity : 0.06768953068592058\n",
      "Education;Pretend Play : 0.05640794223826715\n",
      "Role Playing;Pretend Play : 0.04512635379061372\n",
      "Education;Creativity : 0.04512635379061372\n",
      "Role Playing;Action & Adventure : 0.03384476534296029\n",
      "Puzzle;Action & Adventure : 0.03384476534296029\n",
      "Entertainment;Creativity : 0.03384476534296029\n",
      "Entertainment;Action & Adventure : 0.03384476534296029\n",
      "Educational;Creativity : 0.03384476534296029\n",
      "Educational;Action & Adventure : 0.03384476534296029\n",
      "Education;Music & Video : 0.03384476534296029\n",
      "Education;Brain Games : 0.03384476534296029\n",
      "Education;Action & Adventure : 0.03384476534296029\n",
      "Adventure;Action & Adventure : 0.03384476534296029\n",
      "Video Players & Editors;Music & Video : 0.02256317689530686\n",
      "Sports;Action & Adventure : 0.02256317689530686\n",
      "Simulation;Pretend Play : 0.02256317689530686\n",
      "Puzzle;Creativity : 0.02256317689530686\n",
      "Music;Music & Video : 0.02256317689530686\n",
      "Entertainment;Pretend Play : 0.02256317689530686\n",
      "Casual;Education : 0.02256317689530686\n",
      "Board;Action & Adventure : 0.02256317689530686\n",
      "Video Players & Editors;Creativity : 0.01128158844765343\n",
      "Trivia;Education : 0.01128158844765343\n",
      "Travel & Local;Action & Adventure : 0.01128158844765343\n",
      "Tools;Education : 0.01128158844765343\n",
      "Strategy;Education : 0.01128158844765343\n",
      "Strategy;Creativity : 0.01128158844765343\n",
      "Strategy;Action & Adventure : 0.01128158844765343\n",
      "Simulation;Education : 0.01128158844765343\n",
      "Role Playing;Brain Games : 0.01128158844765343\n",
      "Racing;Pretend Play : 0.01128158844765343\n",
      "Puzzle;Education : 0.01128158844765343\n",
      "Parenting;Brain Games : 0.01128158844765343\n",
      "Music & Audio;Music & Video : 0.01128158844765343\n",
      "Lifestyle;Pretend Play : 0.01128158844765343\n",
      "Lifestyle;Education : 0.01128158844765343\n",
      "Health & Fitness;Education : 0.01128158844765343\n",
      "Health & Fitness;Action & Adventure : 0.01128158844765343\n",
      "Entertainment;Education : 0.01128158844765343\n",
      "Communication;Creativity : 0.01128158844765343\n",
      "Comics;Creativity : 0.01128158844765343\n",
      "Casual;Music & Video : 0.01128158844765343\n",
      "Card;Action & Adventure : 0.01128158844765343\n",
      "Books & Reference;Education : 0.01128158844765343\n",
      "Art & Design;Pretend Play : 0.01128158844765343\n",
      "Art & Design;Action & Adventure : 0.01128158844765343\n",
      "Arcade;Pretend Play : 0.01128158844765343\n",
      "Adventure;Education : 0.01128158844765343\n",
      "\n",
      "\n",
      "Table for android \"Category\"\n",
      "FAMILY : 18.907942238266926\n",
      "GAME : 9.724729241877363\n",
      "TOOLS : 8.46119133574016\n",
      "BUSINESS : 4.591606498194979\n",
      "LIFESTYLE : 3.90342960288811\n",
      "PRODUCTIVITY : 3.8921480144404565\n",
      "FINANCE : 3.7003610108303455\n",
      "MEDICAL : 3.5311371841155417\n",
      "SPORTS : 3.3957581227436986\n",
      "PERSONALIZATION : 3.3167870036101235\n",
      "COMMUNICATION : 3.2378158844765483\n",
      "HEALTH_AND_FITNESS : 3.079873646209398\n",
      "PHOTOGRAPHY : 2.944494584837555\n",
      "NEWS_AND_MAGAZINES : 2.7978339350180583\n",
      "SOCIAL : 2.6624548736462152\n",
      "TRAVEL_AND_LOCAL : 2.335288808664261\n",
      "SHOPPING : 2.2450361010830324\n",
      "BOOKS_AND_REFERENCE : 2.14350180505415\n",
      "DATING : 1.861462093862813\n",
      "VIDEO_PLAYERS : 1.7937725631768928\n",
      "MAPS_AND_NAVIGATION : 1.398916967509025\n",
      "FOOD_AND_DRINK : 1.2409747292418778\n",
      "EDUCATION : 1.1620036101083042\n",
      "ENTERTAINMENT : 0.9589350180505433\n",
      "LIBRARIES_AND_DEMO : 0.9363718411552363\n",
      "AUTO_AND_VEHICLES : 0.9250902527075828\n",
      "HOUSE_AND_HOME : 0.8235559566787015\n",
      "WEATHER : 0.8009927797833946\n",
      "EVENTS : 0.7107400722021667\n",
      "PARENTING : 0.6543321299638993\n",
      "ART_AND_DESIGN : 0.6430505415162459\n",
      "COMICS : 0.6204873646209389\n",
      "BEAUTY : 0.5979241877256319\n",
      "\n",
      "\n",
      "Table for iOS \"prime_genre\"\n",
      "Games : 58.1626319056464\n",
      "Entertainment : 7.883302296710134\n",
      "Photo & Video : 4.965859714463075\n",
      "Education : 3.6623215394165176\n",
      "Social Networking : 3.2898820608317867\n",
      "Shopping : 2.6070763500931133\n",
      "Utilities : 2.5139664804469306\n",
      "Sports : 2.1415270018621997\n",
      "Music : 2.048417132216017\n",
      "Health & Fitness : 2.0173805090006227\n",
      "Productivity : 1.7380509000620747\n",
      "Lifestyle : 1.5828677839851035\n",
      "News : 1.3345747982619496\n",
      "Travel : 1.2414649286157668\n",
      "Finance : 1.1173184357541899\n",
      "Weather : 0.8690254500310364\n",
      "Food & Drink : 0.8069522036002481\n",
      "Reference : 0.558659217877095\n",
      "Business : 0.5276225946617009\n",
      "Book : 0.4345127250155184\n",
      "Navigation : 0.186219739292365\n",
      "Medical : 0.186219739292365\n",
      "Catalogs : 0.12414649286157665\n"
     ]
    }
   ],
   "source": [
    "def freq_table(dataset, index):\n",
    "    dic = {}\n",
    "    number_apps = len(dataset)\n",
    "    for apps in dataset:\n",
    "        col_value = apps[index]\n",
    "        if col_value in dic:\n",
    "            dic[col_value] += ((1/number_apps)*100)\n",
    "        else:\n",
    "            dic[col_value] = ((1/number_apps)*100)\n",
    "    return dic\n",
    "\n",
    "#Builds a freq table with percentages of appearance of values for the category of the index chosen.\n",
    "\n",
    "def display_table(dataset, index):\n",
    "    table = freq_table(dataset, index)\n",
    "    table_display = []\n",
    "    for key in table:\n",
    "        key_val_as_tuple = (table[key], key)\n",
    "        table_display.append(key_val_as_tuple)\n",
    "\n",
    "    table_sorted = sorted(table_display, reverse = True)\n",
    "    for entry in table_sorted:\n",
    "        print(entry[1], ':', entry[0])\n",
    "        \n",
    "#Displays the freq table as tuple values in descending order.\n",
    "\n",
    "print('Table for android \"Genre\"')\n",
    "display_table(final_android, 9)\n",
    "print('\\n')\n",
    "print('Table for android \"Category\"')\n",
    "display_table(final_android, 1)\n",
    "print('\\n')\n",
    "print('Table for iOS \"prime_genre\"')\n",
    "display_table(final_iOS, 12)"
   ]
  },
  {
   "cell_type": "markdown",
   "metadata": {},
   "source": [
    "The rank for android apps in Genre column show that apps that attract most users are those labeled as tools (8.45%), entertainment (6.07%) and education (5.35%), followed by business and productivity apps below 5% each. The three most significant categories for android apps are: family (18.91%), game (9.72%) and tools (8.46%), again followed by business, lifestyle and productivity categories below a 5% threshold. Results suggest successful apps in the android market include educational tools merged with gaming for a family public.\n",
    "\n",
    "When looking at the most reviewed apps in the App Store, the genres that rank highest are games (58.16%) and entertainment (7.88%). This time, business and productivity don't make it to the top ten and lifestyle ranks 8th.\n",
    "\n",
    "Data from both stores support gaming and entertainment. However, Google Play's high-ranking apps have a stronger presence of practical tools.\n",
    "\n",
    "To get an idea of the apps with most users, we will analyze the install column of the android data set (number of downloads). As we don't have that data for iOS, we will substitute number of downloads with the total number of user ratings as a proxy."
   ]
  },
  {
   "cell_type": "markdown",
   "metadata": {},
   "source": [
    "### iOS dataset"
   ]
  },
  {
   "cell_type": "code",
   "execution_count": 17,
   "metadata": {},
   "outputs": [
    {
     "name": "stdout",
     "output_type": "stream",
     "text": [
      "86090.33333333333: Navigation\n",
      "74942.11111111111: Reference\n",
      "71548.34905660378: Social Networking\n",
      "57326.530303030304: Music\n",
      "52279.892857142855: Weather\n",
      "39758.5: Book\n",
      "33333.92307692308: Food & Drink\n",
      "31467.944444444445: Finance\n",
      "28441.54375: Photo & Video\n",
      "28243.8: Travel\n",
      "26919.690476190477: Shopping\n",
      "23298.015384615384: Health & Fitness\n",
      "23008.898550724636: Sports\n",
      "22788.6696905016: Games\n",
      "21248.023255813954: News\n",
      "21028.410714285714: Productivity\n",
      "18684.456790123455: Utilities\n",
      "16485.764705882353: Lifestyle\n",
      "14029.830708661417: Entertainment\n",
      "7491.117647058823: Business\n",
      "7003.983050847458: Education\n",
      "4004.0: Catalogs\n",
      "612.0: Medical\n"
     ]
    }
   ],
   "source": [
    "gen_iOS = freq_table(final_iOS, 12)\n",
    "iOS_review_genre = []\n",
    "\n",
    "for genre in gen_iOS:\n",
    "    total = 0\n",
    "    len_genre = 0\n",
    "    for apps in final_iOS:\n",
    "        genre_app = apps[12]\n",
    "        if genre == genre_app:\n",
    "            u_rating = float(apps[6])\n",
    "            total += u_rating\n",
    "            len_genre += 1\n",
    "    avg_rating = total/len_genre\n",
    "    tupl = (avg_rating, genre)\n",
    "    iOS_review_genre.append(tupl)\n",
    "\n",
    "ordered = sorted(iOS_review_genre, reverse = True)\n",
    "for items in ordered:\n",
    "    print(str(items[0]) + ': ' + str(items[1]))"
   ]
  },
  {
   "cell_type": "markdown",
   "metadata": {},
   "source": [
    "On average, navigation apps have the most reviews. However, there are two navigation apps with an enormous amount of reviews (Google and Waze), which greatly influences the average result."
   ]
  },
  {
   "cell_type": "code",
   "execution_count": 18,
   "metadata": {},
   "outputs": [
    {
     "name": "stdout",
     "output_type": "stream",
     "text": [
      "Waze - GPS Navigation, Maps & Real-time Traffic: 345046\n",
      "Geocaching®: 12811\n",
      "ImmobilienScout24: Real Estate Search in Germany: 187\n",
      "Railway Route Search: 5\n",
      "CoPilot GPS – Car Navigation & Offline Maps: 3582\n",
      "Google Maps - Navigation & Transit: 154911\n"
     ]
    }
   ],
   "source": [
    "for apps in final_iOS:\n",
    "    if apps[12] == 'Navigation':\n",
    "        print(apps[2] + ': ' + apps[6])"
   ]
  },
  {
   "cell_type": "markdown",
   "metadata": {},
   "source": [
    "The same applies for gigants in social networking, reference, music, wheather and finance.\n",
    "\n",
    "For more accuracy in the analysis we could look at the distribution of apps in each genre and account for atypical apps in number of reviews. With this basic analysis we can stay with the following best-rated apps as a recommendation:\n",
    "- Books\n",
    "- Food & drink\n",
    "- Photo & video."
   ]
  },
  {
   "cell_type": "markdown",
   "metadata": {},
   "source": [
    "### Android dataset"
   ]
  },
  {
   "cell_type": "markdown",
   "metadata": {},
   "source": [
    "When trying to analyze the install data, the task becomes more complex, because we have values such as '10,000+'. However, we don't need very precise data for our analysis, just to get the apps which attract the most users, even if it means obtaining a  disordered sub-group.\n",
    "\n",
    "I will continue calculating the average range of installs per app genre.\n",
    "\n",
    "First we need to clean the data from '+' and ',' and convert it from strings to floats."
   ]
  },
  {
   "cell_type": "code",
   "execution_count": 19,
   "metadata": {},
   "outputs": [],
   "source": [
    "for apps in final_android:\n",
    "    installs = apps[5]\n",
    "    installs = installs.replace('+', '')\n",
    "    installs = installs.replace(',','')"
   ]
  },
  {
   "cell_type": "code",
   "execution_count": 20,
   "metadata": {},
   "outputs": [
    {
     "name": "stdout",
     "output_type": "stream",
     "text": [
      "(38456119.167247385, 'COMMUNICATION')\n",
      "(24727872.452830188, 'VIDEO_PLAYERS')\n",
      "(23253652.127118643, 'SOCIAL')\n",
      "(17840110.40229885, 'PHOTOGRAPHY')\n",
      "(16787331.344927534, 'PRODUCTIVITY')\n",
      "(15588015.603248259, 'GAME')\n",
      "(13984077.710144928, 'TRAVEL_AND_LOCAL')\n",
      "(11640705.88235294, 'ENTERTAINMENT')\n",
      "(10801391.298666667, 'TOOLS')\n",
      "(9549178.467741935, 'NEWS_AND_MAGAZINES')\n",
      "(8767811.894736841, 'BOOKS_AND_REFERENCE')\n",
      "(7036877.311557789, 'SHOPPING')\n",
      "(5201482.6122448975, 'PERSONALIZATION')\n",
      "(5074486.197183099, 'WEATHER')\n",
      "(4188821.9853479853, 'HEALTH_AND_FITNESS')\n",
      "(4056941.7741935486, 'MAPS_AND_NAVIGATION')\n",
      "(3695641.8198090694, 'FAMILY')\n",
      "(3638640.1428571427, 'SPORTS')\n",
      "(1986335.0877192982, 'ART_AND_DESIGN')\n",
      "(1924897.7363636363, 'FOOD_AND_DRINK')\n",
      "(1833495.145631068, 'EDUCATION')\n",
      "(1712290.1474201474, 'BUSINESS')\n",
      "(1437816.2687861272, 'LIFESTYLE')\n",
      "(1387692.475609756, 'FINANCE')\n",
      "(1331540.5616438356, 'HOUSE_AND_HOME')\n",
      "(854028.8303030303, 'DATING')\n",
      "(817657.2727272727, 'COMICS')\n",
      "(647317.8170731707, 'AUTO_AND_VEHICLES')\n",
      "(638503.734939759, 'LIBRARIES_AND_DEMO')\n",
      "(542603.6206896552, 'PARENTING')\n",
      "(513151.88679245283, 'BEAUTY')\n",
      "(253542.22222222222, 'EVENTS')\n",
      "(120550.61980830671, 'MEDICAL')\n"
     ]
    }
   ],
   "source": [
    "install_freq = freq_table(final_android, 1)\n",
    "cat_and_install = []\n",
    "\n",
    "for cats in install_freq:\n",
    "    total = 0\n",
    "    len_category = 0\n",
    "    for apps in final_android:\n",
    "        category_app = apps[1]\n",
    "        if category_app == cats:\n",
    "            installs = apps[5]\n",
    "            installs = installs.replace('+', '')\n",
    "            installs = installs.replace(',','')\n",
    "            total += float(installs)\n",
    "            len_category += 1\n",
    "    avg_of_cat = total / len_category\n",
    "    cat_and_install.append((avg_of_cat, cats))\n",
    "    \n",
    "ordered_candi = sorted(cat_and_install, reverse=True)\n",
    "for candies in ordered_candi:\n",
    "    print(candies)"
   ]
  },
  {
   "cell_type": "markdown",
   "metadata": {},
   "source": [
    "Considering the 'Installs' analysis is less precise than the previous analysis regarding reviews numbers, we will take the top 10 apps in the Installs ranking and compare it to previous results. In the top 10 for Installs we can again find the top reviewed apps for Android: 'Tools' and 'Games'. 'Productivity' also ranked well consistently in both analysis and, although 'Communication' ranks 11th in top reviewed apps, it outstands when it comes to Installs numbers.\n",
    "\n",
    "Android's best performers:\n",
    "- Tools\n",
    "- Games\n",
    "- Productivity\n",
    "- Communication\n",
    "\n"
   ]
  },
  {
   "cell_type": "markdown",
   "metadata": {},
   "source": [
    "## Conclusion"
   ]
  },
  {
   "cell_type": "markdown",
   "metadata": {},
   "source": [
    "Final recommendation of an app that works well for both market is 'Photo & Video'. This is a category that consistently ranks well in each analysis made of the Google Play and App Store databases.\n",
    "\n",
    "Examples for the category can be apps which helps obtaining best results in photographs taken for upload to social media, apps that easily make short videos out of similar photographs by metadata stored in devices (or in other apps) or apps that allow easy creation of 'memes', 'stickers' and other popular sharable content.\n",
    "\n",
    "As a second possible good option, one category that still performs rather well in both markets is 'Books'. There are many libraries in both markets, so special features are a must. For example: daily book quotes, forums for books, books exchange enablers, access to authors' extra information on the books, curious facts, etc."
   ]
  }
 ],
 "metadata": {
  "kernelspec": {
   "display_name": "Python 3",
   "language": "python",
   "name": "python3"
  },
  "language_info": {
   "codemirror_mode": {
    "name": "ipython",
    "version": 3
   },
   "file_extension": ".py",
   "mimetype": "text/x-python",
   "name": "python",
   "nbconvert_exporter": "python",
   "pygments_lexer": "ipython3",
   "version": "3.7.3"
  }
 },
 "nbformat": 4,
 "nbformat_minor": 2
}
