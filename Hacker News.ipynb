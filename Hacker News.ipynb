{
 "cells": [
  {
   "cell_type": "markdown",
   "metadata": {
    "collapsed": true
   },
   "source": [
    "# Hacker News"
   ]
  },
  {
   "cell_type": "markdown",
   "metadata": {},
   "source": [
    "The following is an analysis of the most popular posts in Hacker News by number of comments, type of post and hour of posting."
   ]
  },
  {
   "cell_type": "markdown",
   "metadata": {},
   "source": [
    "### Openening, reading and exploring the dataset"
   ]
  },
  {
   "cell_type": "code",
   "execution_count": 44,
   "metadata": {},
   "outputs": [],
   "source": [
    "from csv import reader\n",
    "import datetime as dt\n",
    "import pytz\n",
    "\n",
    "opened_file = open('hackers_news.csv', encoding='utf8')\n",
    "read = reader(opened_file)\n",
    "hn = list(read)"
   ]
  },
  {
   "cell_type": "code",
   "execution_count": 45,
   "metadata": {},
   "outputs": [
    {
     "name": "stdout",
     "output_type": "stream",
     "text": [
      "['id', 'title', 'url', 'num_points', 'num_comments', 'author', 'created_at']\n",
      "\n",
      "\n",
      "['12579008', 'You have two days to comment if you want stem cells to be classified as your own', 'http://www.regulations.gov/document?D=FDA-2015-D-3719-0018', '1', '0', 'altstar', '9/26/2016 3:26']\n",
      "\n",
      "\n",
      "['12579005', 'SQLAR  the SQLite Archiver', 'https://www.sqlite.org/sqlar/doc/trunk/README.md', '1', '0', 'blacksqr', '9/26/2016 3:24']\n",
      "\n",
      "\n",
      "['12578997', 'What if we just printed a flatscreen television on the side of our boxes?', 'https://medium.com/vanmoof/our-secrets-out-f21c1f03fdc8#.ietxmez43', '1', '0', 'pavel_lishin', '9/26/2016 3:19']\n",
      "\n",
      "\n",
      "['12578989', 'algorithmic music', 'http://cacm.acm.org/magazines/2011/7/109891-algorithmic-composition/fulltext', '1', '0', 'poindontcare', '9/26/2016 3:16']\n"
     ]
    }
   ],
   "source": [
    "for posts in hn[0:4]:\n",
    "        print(posts)\n",
    "        print('\\n')\n",
    "\n",
    "print(hn[4])"
   ]
  },
  {
   "cell_type": "markdown",
   "metadata": {},
   "source": [
    "### Separating the header"
   ]
  },
  {
   "cell_type": "code",
   "execution_count": 46,
   "metadata": {},
   "outputs": [
    {
     "name": "stdout",
     "output_type": "stream",
     "text": [
      "['id', 'title', 'url', 'num_points', 'num_comments', 'author', 'created_at']\n",
      "\n",
      "\n",
      "[['12579008', 'You have two days to comment if you want stem cells to be classified as your own', 'http://www.regulations.gov/document?D=FDA-2015-D-3719-0018', '1', '0', 'altstar', '9/26/2016 3:26'], ['12579005', 'SQLAR  the SQLite Archiver', 'https://www.sqlite.org/sqlar/doc/trunk/README.md', '1', '0', 'blacksqr', '9/26/2016 3:24'], ['12578997', 'What if we just printed a flatscreen television on the side of our boxes?', 'https://medium.com/vanmoof/our-secrets-out-f21c1f03fdc8#.ietxmez43', '1', '0', 'pavel_lishin', '9/26/2016 3:19'], ['12578989', 'algorithmic music', 'http://cacm.acm.org/magazines/2011/7/109891-algorithmic-composition/fulltext', '1', '0', 'poindontcare', '9/26/2016 3:16'], ['12578979', 'How the Data Vault Enables the Next-Gen Data Warehouse and Data Lake', 'https://www.talend.com/blog/2016/05/12/talend-and-Â\\x93the-data-vaultÂ\\x94', '1', '0', 'markgainor1', '9/26/2016 3:14']]\n"
     ]
    }
   ],
   "source": [
    "headers = hn[0]\n",
    "hn = hn[1:]\n",
    "\n",
    "print(headers)\n",
    "print('\\n')\n",
    "print(hn[0:5])"
   ]
  },
  {
   "cell_type": "markdown",
   "metadata": {},
   "source": [
    "### Ask or Show posts? Finding out which generates more comments\n",
    "\n",
    "We are only concerned with post titles starting with 'Ask HN' or 'Show HN'. The objective is to see which kind of posts, whether questions or display posts, are more popular."
   ]
  },
  {
   "cell_type": "code",
   "execution_count": 47,
   "metadata": {},
   "outputs": [
    {
     "name": "stdout",
     "output_type": "stream",
     "text": [
      "The number of ask posts is: 9139\n",
      "The number of show posts is: 10158\n",
      "The number of other posts is: 273822\n"
     ]
    }
   ],
   "source": [
    "ask_posts = []\n",
    "show_posts = []\n",
    "other_posts = []\n",
    "\n",
    "for rows in hn:\n",
    "    title = rows[1]\n",
    "    title_low = title.lower()\n",
    "    if title_low.startswith('ask hn'):\n",
    "        ask_posts.append(rows)\n",
    "    elif title_low.startswith('show hn'):\n",
    "        show_posts.append(rows)\n",
    "    else:\n",
    "        other_posts.append(rows)\n",
    "        \n",
    "print(\"The number of ask posts is: \" + str(len(ask_posts)))\n",
    "print(\"The number of show posts is: \" + str(len(show_posts)))\n",
    "print(\"The number of other posts is: \" + str(len(other_posts)))"
   ]
  },
  {
   "cell_type": "code",
   "execution_count": 48,
   "metadata": {},
   "outputs": [
    {
     "name": "stdout",
     "output_type": "stream",
     "text": [
      "Average comments:\n",
      "10.39 for ask posts\n",
      "4.89 for show posts\n"
     ]
    }
   ],
   "source": [
    "print(\"Average comments:\")\n",
    "total_ask_comments = 0\n",
    "\n",
    "for elements in ask_posts:\n",
    "    total_ask_comments += int(elements[4])\n",
    "    \n",
    "avg_ask_comments = total_ask_comments/len(ask_posts)\n",
    "print(str(round(avg_ask_comments, 2)) + \" for ask posts\")\n",
    "\n",
    "total_show_comments = 0\n",
    "\n",
    "for elements in show_posts:\n",
    "    total_show_comments += int(elements[4])\n",
    "    \n",
    "avg_show_comments = total_show_comments/len(show_posts)\n",
    "print(str(round(avg_show_comments, 2)) + \" for show posts\")"
   ]
  },
  {
   "cell_type": "markdown",
   "metadata": {},
   "source": [
    "### Most comment-effective hours for asks posts"
   ]
  },
  {
   "cell_type": "code",
   "execution_count": 49,
   "metadata": {},
   "outputs": [],
   "source": [
    "result_list = []\n",
    "counts_by_hour = {}\n",
    "comments_by_hour = {}\n",
    "\n",
    "for posts in ask_posts:\n",
    "    created_at = posts[6]\n",
    "    comments = int(posts[4])\n",
    "    stripped_time = dt.datetime.strptime(created_at, \"%m/%d/%Y %H:%M\")\n",
    "    hour = stripped_time.hour\n",
    "    if hour in counts_by_hour:\n",
    "        counts_by_hour[hour] += 1\n",
    "        comments_by_hour[hour] += comments\n",
    "    else:\n",
    "        counts_by_hour[hour] = 1\n",
    "        comments_by_hour[hour] = comments"
   ]
  },
  {
   "cell_type": "markdown",
   "metadata": {},
   "source": [
    "Once created two dictionaries with the counts and comments grouped by hour, I will find the average number of comments per post for each hour."
   ]
  },
  {
   "cell_type": "code",
   "execution_count": 50,
   "metadata": {},
   "outputs": [
    {
     "name": "stdout",
     "output_type": "stream",
     "text": [
      "Top 5 Hours for Ask Posts Comments:\n",
      "15:00: 28.68 average comments per post\n",
      "13:00: 16.32 average comments per post\n",
      "12:00: 12.38 average comments per post\n",
      "02:00: 11.14 average comments per post\n",
      "10:00: 10.68 average comments per post\n"
     ]
    }
   ],
   "source": [
    "avg_by_hour = []\n",
    "\n",
    "for hours in comments_by_hour:\n",
    "    avg_by_hour.append([hours, comments_by_hour[hours]/counts_by_hour[hours]])\n",
    "\n",
    "swapped_avg = []\n",
    "for elements in avg_by_hour:\n",
    "    swapped_avg.append([elements[1], elements[0]])\n",
    "    \n",
    "ordered_avg = sorted(swapped_avg, reverse=True)\n",
    "\n",
    "print(\"Top 5 Hours for Ask Posts Comments:\")\n",
    "for avg, hr in ordered_avg[0:5]:\n",
    "    time = dt.datetime.strptime(str(hr), \"%H\").strftime(\"%H:%M\")\n",
    "    print('{}: {:.2f} average comments per post'.format(time, avg))"
   ]
  },
  {
   "cell_type": "markdown",
   "metadata": {},
   "source": [
    "The dataset is in US eastern time. What does the dataset mean for my timezone (Uruguay)?"
   ]
  },
  {
   "cell_type": "code",
   "execution_count": 51,
   "metadata": {},
   "outputs": [
    {
     "name": "stdout",
     "output_type": "stream",
     "text": [
      "Top 5 Hours for Ask Posts Comments (in Uruguay's time):\n",
      "16:11: 28.68 average comments per post\n",
      "14:11: 16.32 average comments per post\n",
      "13:11: 12.38 average comments per post\n",
      "03:11: 11.14 average comments per post\n",
      "11:11: 10.68 average comments per post\n"
     ]
    }
   ],
   "source": [
    "eastern = pytz.timezone('US/Eastern')\n",
    "uruguay = pytz.timezone('America/Montevideo')\n",
    "\n",
    "print(\"Top 5 Hours for Ask Posts Comments (in Uruguay's time):\")\n",
    "for avg, hr in ordered_avg[0:5]:\n",
    "    time = dt.datetime.strptime(str(hr), \"%H\")\n",
    "    time = eastern.normalize(eastern.localize(time))\n",
    "    time = time.astimezone(uruguay).strftime(\"%H:%M\")\n",
    "    print('{}: {:.2f} average comments per post'.format(time, avg))"
   ]
  },
  {
   "cell_type": "markdown",
   "metadata": {},
   "source": [
    "## Conclusion\n",
    "\n",
    "Ask posts are more popular than show posts measured in terms of comments: they get 10.39 comments versus 4.89 for show posts on average. The most popular hours in which to upload ask posts would be from 15:00 to 16:00 in eastern time or 16:00 to 17:00 in Uruguay's time, as they are the most comment-productive range of hours for ask posts.\n",
    "\n",
    "People might be inclined to comment to show off their knowledge, or to help, more than they might be inclined to comment a 'show' post. This would not necessarily imply that they were more interested by the 'ask' posts or that 'ask' posts generated more fuzz. This is a possible limitation of the analysis. An example of additional data that may add value to the analysis is the number of 'views' of each post or the amount of times posts were cited or shared outside of the site."
   ]
  },
  {
   "cell_type": "code",
   "execution_count": null,
   "metadata": {},
   "outputs": [],
   "source": []
  }
 ],
 "metadata": {
  "kernelspec": {
   "display_name": "Python 3",
   "language": "python",
   "name": "python3"
  },
  "language_info": {
   "codemirror_mode": {
    "name": "ipython",
    "version": 3
   },
   "file_extension": ".py",
   "mimetype": "text/x-python",
   "name": "python",
   "nbconvert_exporter": "python",
   "pygments_lexer": "ipython3",
   "version": "3.7.3"
  }
 },
 "nbformat": 4,
 "nbformat_minor": 2
}
